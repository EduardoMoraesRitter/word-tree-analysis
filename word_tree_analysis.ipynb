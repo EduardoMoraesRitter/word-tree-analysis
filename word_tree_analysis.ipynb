{
  "nbformat": 4,
  "nbformat_minor": 0,
  "metadata": {
    "kernelspec": {
      "display_name": "Python 2",
      "language": "python",
      "name": "python2"
    },
    "language_info": {
      "codemirror_mode": {
        "name": "ipython",
        "version": 2
      },
      "file_extension": ".py",
      "mimetype": "text/x-python",
      "name": "python",
      "nbconvert_exporter": "python",
      "pygments_lexer": "ipython2",
      "version": "2.7.12"
    },
    "colab": {
      "name": "word_tree_analysis.ipynb",
      "provenance": [],
      "collapsed_sections": [
        "Q_KC_HfK_EhG",
        "gKws2M1q_EhH"
      ],
      "include_colab_link": true
    }
  },
  "cells": [
    {
      "cell_type": "markdown",
      "metadata": {
        "id": "view-in-github",
        "colab_type": "text"
      },
      "source": [
        "<a href=\"https://colab.research.google.com/github/EduardoMoraesRitter/word-tree-analysis/blob/main/word_tree_analysis.ipynb\" target=\"_parent\"><img src=\"https://colab.research.google.com/assets/colab-badge.svg\" alt=\"Open In Colab\"/></a>"
      ]
    },
    {
      "cell_type": "markdown",
      "metadata": {
        "id": "Byp2pXYIUgkP"
      },
      "source": [
        "##Word Tree\n",
        "\n",
        "para mais detalhes: https://developers.google.com/chart/interactive/docs/gallery/wordtree\n"
      ]
    },
    {
      "cell_type": "code",
      "metadata": {
        "id": "mjayrNaCwQGw"
      },
      "source": [
        "from IPython.display import HTML\n",
        "from string import Template\n",
        "import requests"
      ],
      "execution_count": 39,
      "outputs": []
    },
    {
      "cell_type": "code",
      "metadata": {
        "id": "AaTp10upVDC8"
      },
      "source": [
        "#dados(frases)\n",
        "\n",
        "json_tree = [['Frases'],\n",
        "        ['cats are better than dogs'], ['dog eat kibble'], ['cats are better than hamsters'],\n",
        "        ['dog are awesome'], ['cats are people too'], ['cats eat mice'],\n",
        "        ['cats meowing'], ['cats in the cradle'], ['cats eat mice'],\n",
        "        ['cats in the cradle lyrics'], ['cats eat kibble'], ['cats for adoption'],\n",
        "        ['dog are family'], ['dog eat mice'], ['dog are better than kittens'],\n",
        "        ['cats are evil'], ['cats are weird'], ['cats eat mice']]"
      ],
      "execution_count": 41,
      "outputs": []
    },
    {
      "cell_type": "code",
      "metadata": {
        "colab": {
          "base_uri": "https://localhost:8080/",
          "height": 639
        },
        "id": "1mOA4BpdRf_U",
        "outputId": "9da5be3f-a3fe-4dbe-c7ba-8b8b04236c4e"
      },
      "source": [
        "#ler um aqrquivo ou a URL onde comtem o HTML do google\n",
        "url = requests.get(\"https://raw.githubusercontent.com/EduardoMoraesRitter/word-tree-analysis/main/wordtree_template.html\")\n",
        "\n",
        "#Ler HTML do aquirvo\n",
        "htmltext = Template(url.text)\n",
        "\n",
        "#subistituir os valores ${}\n",
        "htmlfinal =  htmltext.substitute(root_word=\"are\", tree_type=\"double\", json_formatted=json_tree)\n",
        "\n",
        "#executar o HML\n",
        "HTML(htmlfinal)"
      ],
      "execution_count": 42,
      "outputs": [
        {
          "output_type": "execute_result",
          "data": {
            "text/plain": [
              "<IPython.core.display.HTML object>"
            ],
            "text/html": [
              "<html>\n",
              "\n",
              "<head>\n",
              "    <script type=\"text/javascript\" src=\"https://www.gstatic.com/charts/loader.js\"></script>\n",
              "    <script type=\"text/javascript\">\n",
              "\n",
              "        google.charts.load('current', { packages: ['wordtree'] });\n",
              "\n",
              "        var chart;\n",
              "        var data;\n",
              "        var options = {\n",
              "            wordtree: {\n",
              "                format: 'implicit',\n",
              "                word: 'are',\n",
              "                type: 'double'\n",
              "            }\n",
              "        };\n",
              "\n",
              "        function initChart() {\n",
              "            data = google.visualization.arrayToDataTable([['Frases'], ['cats are better than dogs'], ['dog eat kibble'], ['cats are better than hamsters'], ['dog are awesome'], ['cats are people too'], ['cats eat mice'], ['cats meowing'], ['cats in the cradle'], ['cats eat mice'], ['cats in the cradle lyrics'], ['cats eat kibble'], ['cats for adoption'], ['dog are family'], ['dog eat mice'], ['dog are better than kittens'], ['cats are evil'], ['cats are weird'], ['cats eat mice']]);\n",
              "            chart = new google.visualization.WordTree(document.getElementById('wordtree_basic'));\n",
              "        }\n",
              "\n",
              "        function drawChart() {\n",
              "            chart.draw(data, options);\n",
              "        }\n",
              "\n",
              "        function setRootWordFromForm() {\n",
              "            options.wordtree.word = document.getElementById('root_word').value;\n",
              "            drawChart();\n",
              "        }\n",
              "\n",
              "        google.charts.setOnLoadCallback(function () {\n",
              "            initChart();\n",
              "            drawChart();\n",
              "        });\n",
              "\n",
              "    </script>\n",
              "</head>\n",
              "\n",
              "<body>\n",
              "    Root Word:\n",
              "    <input type=\"text\" id=\"root_word\" value=\"are\">\n",
              "    <button type=\"button\" onclick=\"setRootWordFromForm()\">Update Tree</button>\n",
              "    <br>\n",
              "    <div id=\"wordtree_basic\" style=\"width: 900px; height: 600px;\"></div>\n",
              "</body>\n",
              "\n",
              "</html>"
            ]
          },
          "metadata": {},
          "execution_count": 42
        }
      ]
    },
    {
      "cell_type": "markdown",
      "metadata": {
        "id": "do-DdbPaUt0j"
      },
      "source": [
        "### Exemplo com função"
      ]
    },
    {
      "cell_type": "code",
      "metadata": {
        "id": "Zdb89WNWKEDE"
      },
      "source": [
        "def get_word_tree_html(json_formatted, root_word, lowercase=True, tree_type='double'):\n",
        "    \n",
        "    with open('https://raw.githubusercontent.com/EduardoMoraesRitter/word-tree-analysis/main/wordtree_template.html', 'r') as my_file:\n",
        "        html_template = Template(my_file.read())\n",
        "    return html_template.substitute(root_word=root_word,\n",
        "                                    tree_type=tree_type,\n",
        "                                    json_formatted=json_formatted.lower() if lowercase else json_formatted)"
      ],
      "execution_count": 5,
      "outputs": []
    },
    {
      "cell_type": "code",
      "metadata": {
        "id": "SwBcrrTeKK1f"
      },
      "source": [
        "json = [['Frases'],\n",
        "        ['cats are better than dogs'],\n",
        "        ['dog eat kibble'],\n",
        "        ['cats are better than hamsters'],\n",
        "        ['dog are awesome'],\n",
        "        ['cats are people too'],\n",
        "        ['cats eat mice'],\n",
        "        ['cats meowing'],\n",
        "        ['cats in the cradle'],\n",
        "        ['cats eat mice'],\n",
        "        ['cats in the cradle lyrics'],\n",
        "        ['cats eat kibble'],\n",
        "        ['cats for adoption'],\n",
        "        ['dog are family'],\n",
        "        ['dog eat mice'],\n",
        "        ['dog are better than kittens'],\n",
        "        ['cats are evil'],\n",
        "        ['cats are weird'],\n",
        "        ['cats eat mice']]\n",
        "\n",
        "HTML(get_word_tree_html(json, 'are', lowercase=False, tree_type='double'))"
      ],
      "execution_count": null,
      "outputs": []
    },
    {
      "cell_type": "code",
      "metadata": {
        "id": "IS6005WemWFU"
      },
      "source": [
        "\"\"\"\n",
        "<html>\n",
        "\n",
        "<head>\n",
        "    <script type=\"text/javascript\" src=\"https://www.gstatic.com/charts/loader.js\"></script>\n",
        "    <script type=\"text/javascript\">\n",
        "\n",
        "        google.charts.load('current', { packages: ['wordtree'] });\n",
        "\n",
        "        var chart;\n",
        "        var data;\n",
        "        var options = {\n",
        "            wordtree: {\n",
        "                format: 'implicit',\n",
        "                word: '${root_word}',\n",
        "                type: '${tree_type}'\n",
        "            }\n",
        "        };\n",
        "\n",
        "        function initChart() {\n",
        "            data = google.visualization.arrayToDataTable(${json_formatted});\n",
        "            chart = new google.visualization.WordTree(document.getElementById('wordtree_basic'));\n",
        "        }\n",
        "\n",
        "        function drawChart() {\n",
        "            chart.draw(data, options);\n",
        "        }\n",
        "\n",
        "        function setRootWordFromForm() {\n",
        "            options.wordtree.word = document.getElementById('root_word').value;\n",
        "            drawChart();\n",
        "        }\n",
        "\n",
        "        google.charts.setOnLoadCallback(function () {\n",
        "            initChart();\n",
        "            drawChart();\n",
        "        });\n",
        "\n",
        "    </script>\n",
        "</head>\n",
        "\n",
        "<body>\n",
        "    Root Word:\n",
        "    <input type=\"text\" id=\"root_word\" value=\"${root_word}\">\n",
        "    <button type=\"button\" onclick=\"setRootWordFromForm()\">Update Tree</button>\n",
        "    <br>\n",
        "    <div id=\"wordtree_basic\" style=\"width: 900px; height: 600px;\"></div>\n",
        "</body>\n",
        "\n",
        "</html>\n",
        "\"\"\""
      ],
      "execution_count": null,
      "outputs": []
    },
    {
      "cell_type": "code",
      "metadata": {
        "id": "hu94Nl_jJE57"
      },
      "source": [
        "#forma de ler o aquivo\n",
        "with open('wordtree_template.html', 'r') as my_file:\n",
        "  print(my_file)\n",
        "  html_template = Template(my_file.read())\n",
        "teste = html_template.substitute(root_word=\"are\", tree_type=\"double\", json_formatted=[[\"aa\"],[\"are\"]])\n",
        "HTML(teste)"
      ],
      "execution_count": null,
      "outputs": []
    },
    {
      "cell_type": "code",
      "metadata": {
        "id": "GO3rvofvQCG5"
      },
      "source": [
        "#outra forma de ler um aquivo\n",
        "import codecs\n",
        "f=codecs.open(\"wordtree_template.html\", 'r')\n",
        "print(f.read())"
      ],
      "execution_count": null,
      "outputs": []
    },
    {
      "cell_type": "markdown",
      "metadata": {
        "id": "Q_KC_HfK_EhG"
      },
      "source": [
        "# Wordcloud"
      ]
    },
    {
      "cell_type": "markdown",
      "metadata": {
        "id": "gKws2M1q_EhH"
      },
      "source": [
        "### Define the helper method"
      ]
    },
    {
      "cell_type": "code",
      "metadata": {
        "id": "3-sWRWMR_EhH"
      },
      "source": [
        "def generate_cloud(texts, max_words=30):\n",
        "    # Add more words here if you want to ignore them:\n",
        "    my_stopwords = STOPWORDS.copy()\n",
        "    my_stopwords.update(['go', 'ya', 'come', 'back', 'good', 'sound'])\n",
        "    words = ' '.join(texts).lower()\n",
        "    wordcloud = WordCloud(font_path='CabinSketch-Bold.ttf',\n",
        "                          stopwords=my_stopwords,\n",
        "                          background_color='black',\n",
        "                          width=800,\n",
        "                          height=600,\n",
        "                          relative_scaling=1,\n",
        "                          max_words=max_words\n",
        "                         ).generate_from_text(words)\n",
        "    print('Based on {0:,} texts'.format(len(texts)))\n",
        "    \n",
        "    fig, ax = plt.subplots(figsize=(15,10))\n",
        "    ax.imshow(wordcloud)\n",
        "    ax.axis('off')\n",
        "    plt.show()"
      ],
      "execution_count": null,
      "outputs": []
    },
    {
      "cell_type": "markdown",
      "metadata": {
        "id": "3zxrcZWB_EhI"
      },
      "source": [
        "### Texts you've sent"
      ]
    },
    {
      "cell_type": "code",
      "metadata": {
        "scrolled": false,
        "colab": {
          "base_uri": "https://localhost:8080/"
        },
        "id": "moB3Lo9T_EhI",
        "outputId": "ba7cdd95-3486-4241-8b2d-1d343f19aeca"
      },
      "source": [
        "# Word cloud of the top 25 words I use based on the most recent 30,000 messages.\n",
        "\n",
        "texts_from_me = fully_merged_messages_df[fully_merged_messages_df.is_from_me == 1].text[-30000:]\n",
        "widgets.interact(\n",
        "    generate_cloud,\n",
        "    texts=widgets.fixed(texts_from_me),\n",
        "    max_words=widgets.IntSlider(min=5,max=50,step=1,value=10, continuous_update=False,\n",
        "                                description='Max words to show:'))"
      ],
      "execution_count": null,
      "outputs": [
        {
          "output_type": "error",
          "ename": "NameError",
          "evalue": "ignored",
          "traceback": [
            "\u001b[0;31m\u001b[0m",
            "\u001b[0;31mNameError\u001b[0mTraceback (most recent call last)",
            "\u001b[0;32m<ipython-input-6-bb4992126705>\u001b[0m in \u001b[0;36m<module>\u001b[0;34m()\u001b[0m\n\u001b[1;32m      1\u001b[0m \u001b[0;31m# Word cloud of the top 25 words I use based on the most recent 30,000 messages.\u001b[0m\u001b[0;34m\u001b[0m\u001b[0;34m\u001b[0m\u001b[0m\n\u001b[1;32m      2\u001b[0m \u001b[0;34m\u001b[0m\u001b[0m\n\u001b[0;32m----> 3\u001b[0;31m \u001b[0mtexts_from_me\u001b[0m \u001b[0;34m=\u001b[0m \u001b[0mfully_merged_messages_df\u001b[0m\u001b[0;34m[\u001b[0m\u001b[0mfully_merged_messages_df\u001b[0m\u001b[0;34m.\u001b[0m\u001b[0mis_from_me\u001b[0m \u001b[0;34m==\u001b[0m \u001b[0;36m1\u001b[0m\u001b[0;34m]\u001b[0m\u001b[0;34m.\u001b[0m\u001b[0mtext\u001b[0m\u001b[0;34m[\u001b[0m\u001b[0;34m-\u001b[0m\u001b[0;36m30000\u001b[0m\u001b[0;34m:\u001b[0m\u001b[0;34m]\u001b[0m\u001b[0;34m\u001b[0m\u001b[0m\n\u001b[0m\u001b[1;32m      4\u001b[0m widgets.interact(\n\u001b[1;32m      5\u001b[0m     \u001b[0mgenerate_cloud\u001b[0m\u001b[0;34m,\u001b[0m\u001b[0;34m\u001b[0m\u001b[0m\n",
            "\u001b[0;31mNameError\u001b[0m: name 'fully_merged_messages_df' is not defined"
          ]
        }
      ]
    },
    {
      "cell_type": "markdown",
      "metadata": {
        "id": "DsprrW06_EhI"
      },
      "source": [
        "### Texts to/from a specific contact"
      ]
    },
    {
      "cell_type": "code",
      "metadata": {
        "scrolled": false,
        "id": "qC5M1VZ3_EhI"
      },
      "source": [
        "def _word_cloud_specific_contact(max_words, from_me, contact):\n",
        "    contact = convert_unicode_to_str_if_needed(contact)\n",
        "    if contact not in full_names:\n",
        "        print('{} not found'.format(contact))\n",
        "        return\n",
        "    sliced_df = fully_merged_messages_df[(fully_merged_messages_df.full_name == contact) &\n",
        "                                         (fully_merged_messages_df.is_from_me == from_me)].text\n",
        "    generate_cloud(sliced_df, max_words)\n",
        "\n",
        "widgets.interact(\n",
        "    _word_cloud_specific_contact,\n",
        "    max_words=widgets.IntSlider(min=5, max=50, step=1, value=10,\n",
        "                                continuous_update=False, description='Max words to show:'),\n",
        "    from_me=widgets.RadioButtons(\n",
        "        options={'Show messages FROM me': True, 'Show messages TO me': False}, description=' '),\n",
        "    contact=widgets.Text(value='Mom', description='Contact name:')\n",
        ")"
      ],
      "execution_count": null,
      "outputs": []
    }
  ]
}